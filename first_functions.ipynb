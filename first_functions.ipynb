{
 "cells": [
  {
   "cell_type": "markdown",
   "id": "ea7e2753",
   "metadata": {},
   "source": [
    "# Exercises on functions\n",
    "\n",
    "\n",
    "\n",
    "For background, please read the [functions](https:/olsonac.github.io/textbook/functions_conditionals/functions) introduction."
   ]
  },
  {
   "cell_type": "code",
   "execution_count": null,
   "id": "b082b0d7",
   "metadata": {},
   "outputs": [],
   "source": [
    "# Run this cell\n",
    "# Import the array library\n",
    "import numpy as np\n",
    "\n",
    "# Load the OKpy test library and tests.\n",
    "from client.api.notebook import Notebook\n",
    "ok = Notebook('first_functions.ok')"
   ]
  },
  {
   "cell_type": "markdown",
   "id": "7aed367c",
   "metadata": {},
   "source": [
    "This function is not properly defined, and as it is now, will give\n",
    "a `SyntaxError`.  Fix it, then run the call below to confirm it is working."
   ]
  },
  {
   "cell_type": "code",
   "execution_count": null,
   "id": "074c408b",
   "metadata": {
    "tags": [
     "raises-exception"
    ]
   },
   "outputs": [],
   "source": [
    "function subtract(p, q):\n",
    "    r = p - q\n",
    "    return r"
   ]
  },
  {
   "cell_type": "code",
   "execution_count": null,
   "id": "760139d1",
   "metadata": {},
   "outputs": [],
   "source": [
    "# Use this cell to test your function\n",
    "subtract(5, 10)"
   ]
  },
  {
   "cell_type": "code",
   "execution_count": null,
   "id": "536de47f",
   "metadata": {
    "lines_to_next_cell": 2
   },
   "outputs": [],
   "source": [
    "_ = ok.grade('q_1_subtract')"
   ]
  },
  {
   "cell_type": "markdown",
   "id": "7604831a",
   "metadata": {},
   "source": [
    "This function also gives a `SyntaxError`. Fix and run."
   ]
  },
  {
   "cell_type": "code",
   "execution_count": null,
   "id": "d85b1c61",
   "metadata": {
    "tags": [
     "raises-exception"
    ]
   },
   "outputs": [],
   "source": [
    "def add(first_value, second_value)\n",
    "    return first_value + second_value"
   ]
  },
  {
   "cell_type": "code",
   "execution_count": null,
   "id": "8ac21f17",
   "metadata": {},
   "outputs": [],
   "source": [
    "# Test your function with this cell\n",
    "add(-2, 3)"
   ]
  },
  {
   "cell_type": "code",
   "execution_count": null,
   "id": "b795d69a",
   "metadata": {},
   "outputs": [],
   "source": [
    "_ = ok.grade('q_2_add')"
   ]
  },
  {
   "cell_type": "markdown",
   "id": "6b818070",
   "metadata": {},
   "source": [
    "Here is another error.  Fix and run."
   ]
  },
  {
   "cell_type": "code",
   "execution_count": null,
   "id": "705b1a8e",
   "metadata": {
    "tags": [
     "raises-exception"
    ]
   },
   "outputs": [],
   "source": [
    "def cube(a_variable):\n",
    "return a_variable ** 3"
   ]
  },
  {
   "cell_type": "code",
   "execution_count": null,
   "id": "22db078e",
   "metadata": {},
   "outputs": [],
   "source": [
    "cube(3)"
   ]
  },
  {
   "cell_type": "code",
   "execution_count": null,
   "id": "e5f4b642",
   "metadata": {
    "lines_to_next_cell": 2
   },
   "outputs": [],
   "source": [
    "_ = ok.grade('q_3_cube')"
   ]
  },
  {
   "cell_type": "markdown",
   "id": "6bd21f51",
   "metadata": {},
   "source": [
    "Consider this correct function definition:"
   ]
  },
  {
   "cell_type": "code",
   "execution_count": null,
   "id": "f4d55339",
   "metadata": {},
   "outputs": [],
   "source": [
    "def add_then_multiply(a, b):\n",
    "    added = a + b\n",
    "    return added * b"
   ]
  },
  {
   "cell_type": "markdown",
   "id": "3a3738a9",
   "metadata": {},
   "source": [
    "Why does the cell below give you an error?\n",
    "\n",
    "Leave the code in the cell as it is, but add a line at the beginning of the\n",
    "cell, so that `my_total` is equal to 60."
   ]
  },
  {
   "cell_type": "code",
   "execution_count": null,
   "id": "69481a75",
   "metadata": {
    "tags": [
     "raises-exception"
    ]
   },
   "outputs": [],
   "source": [
    "#- Your line here\n",
    "...\n",
    "# Leave the two lines below unchanged.\n",
    "result = add_then_multiply(10, 4)\n",
    "my_total = result + added\n",
    "my_total"
   ]
  },
  {
   "cell_type": "code",
   "execution_count": null,
   "id": "31e73900",
   "metadata": {
    "lines_to_next_cell": 2
   },
   "outputs": [],
   "source": [
    "_ = ok.grade('q_3_1_my_total')"
   ]
  },
  {
   "cell_type": "markdown",
   "id": "595bfbf1",
   "metadata": {},
   "source": [
    "Write a function called `increase` that:\n",
    "\n",
    "* accepts two arguments\n",
    "* has a function body that multiplies the first argument by 2 and the second by\n",
    "  3, adds the two resulting numbers, and returns the result.\n",
    "\n",
    "If your function is right, the cell below should return 13."
   ]
  },
  {
   "cell_type": "code",
   "execution_count": null,
   "id": "a10cb315",
   "metadata": {},
   "outputs": [],
   "source": [
    "#- Your function here"
   ]
  },
  {
   "cell_type": "code",
   "execution_count": null,
   "id": "ca18d314",
   "metadata": {},
   "outputs": [],
   "source": [
    "increase(2, 3)"
   ]
  },
  {
   "cell_type": "code",
   "execution_count": null,
   "id": "c417c802",
   "metadata": {
    "lines_to_next_cell": 2
   },
   "outputs": [],
   "source": [
    "_ = ok.grade('q_4_increase')"
   ]
  },
  {
   "cell_type": "markdown",
   "id": "e8038b04",
   "metadata": {},
   "source": [
    "This function will run, but it probably doesn't give you the result you expect.\n",
    "Fix to give the result you expect and run."
   ]
  },
  {
   "cell_type": "code",
   "execution_count": null,
   "id": "2e43f774",
   "metadata": {},
   "outputs": [],
   "source": [
    "def divide(p, q):\n",
    "    # Give result of dividing p by q\n",
    "    result = p / q"
   ]
  },
  {
   "cell_type": "code",
   "execution_count": null,
   "id": "f551949b",
   "metadata": {},
   "outputs": [],
   "source": [
    "divide(10, 2)"
   ]
  },
  {
   "cell_type": "code",
   "execution_count": null,
   "id": "4f935074",
   "metadata": {},
   "outputs": [],
   "source": [
    "_ = ok.grade('q_5_divide')"
   ]
  },
  {
   "cell_type": "markdown",
   "id": "3cab0467",
   "metadata": {},
   "source": [
    "## Back to simulations\n",
    "\n",
    "Remember the three girls simulations?  We initially assumed that the chance of\n",
    "any one child being a girl was 0.5.\n",
    "\n",
    "In fact, the [proportion of boys born in the\n",
    "UK](https://www.gov.uk/government/statistics/gender-ratios-at-birth-in-great-britain-2010-to-2014)\n",
    "is 0.513. Hence the proportion of girls is 1-0.513 = 0.487.\n",
    "\n",
    "Here is a snippet of code that makes four random numbers and counts how many of\n",
    "these are less than 0.487."
   ]
  },
  {
   "cell_type": "code",
   "execution_count": null,
   "id": "bb27277a",
   "metadata": {},
   "outputs": [],
   "source": [
    "# Make four random numbers\n",
    "randoms = np.random.uniform(0, 1, 4)\n",
    "# Compare to 0.487\n",
    "less_than = randoms < 0.487\n",
    "n_less_than = np.count_nonzero(less_than)\n",
    "n_less_than"
   ]
  },
  {
   "cell_type": "markdown",
   "id": "eaf30bd0",
   "metadata": {},
   "source": [
    "Let's say we want to put that into a function, called `count_4_girls`.   The\n",
    "function accepts no arguments, and returns the number of girls from a simulated\n",
    "family of four, as above:"
   ]
  },
  {
   "cell_type": "code",
   "execution_count": null,
   "id": "3852b3db",
   "metadata": {},
   "outputs": [],
   "source": [
    "def count_4_girls():\n",
    "    ...\n",
    "# Check what the function returns\n",
    "count_4_girls()"
   ]
  },
  {
   "cell_type": "code",
   "execution_count": null,
   "id": "68cb3a42",
   "metadata": {},
   "outputs": [],
   "source": [
    "_ = ok.grade('q_5_1_count_4_girls')"
   ]
  },
  {
   "cell_type": "markdown",
   "id": "9b48796c",
   "metadata": {},
   "source": [
    "Now we want a more general function that accepts two arguments `n` - the number\n",
    "of children, and `p` the probability that any one child is a girl.   As before,\n",
    "it returns the number of girls from a simulated family of `n` children, each\n",
    "with `p` chance of being a girl.  Call the function `count_girls`."
   ]
  },
  {
   "cell_type": "code",
   "execution_count": null,
   "id": "65dec648",
   "metadata": {},
   "outputs": [],
   "source": [
    "def count_girls(n, p):\n",
    "    ...\n",
    "# Check what the function returns for n=5, p=0.25\n",
    "print(count_girls(5, 0.25))\n",
    "# Check what the function returns for n=3, p=0.6\n",
    "print(count_girls(3, 0.6))"
   ]
  },
  {
   "cell_type": "code",
   "execution_count": null,
   "id": "b7f9c388",
   "metadata": {},
   "outputs": [],
   "source": [
    "_ = ok.grade('q_5_2_count_girls')"
   ]
  },
  {
   "cell_type": "markdown",
   "id": "2a1a74c1",
   "metadata": {},
   "source": [
    "## Function world\n",
    "\n",
    "Remember that, in function world, the function can see the variables at the top\n",
    "level, but it cannot change what value the top-level variables point to.\n",
    "\n",
    "Read the code the below, but do not run it.\n",
    "\n",
    "Predict what you will see.  Will it be an error?  If not, what value will you\n",
    "see?\n",
    "\n",
    "Run it to see if you're right."
   ]
  },
  {
   "cell_type": "code",
   "execution_count": null,
   "id": "29547ff3",
   "metadata": {},
   "outputs": [],
   "source": [
    "a = 12\n",
    "\n",
    "def my_function(b):\n",
    "    return a * b\n",
    "\n",
    "my_function(4)"
   ]
  },
  {
   "cell_type": "markdown",
   "id": "d026406e",
   "metadata": {},
   "source": [
    "This is now going into deeper water.\n",
    "\n",
    "We know that, in function world, the function can see the variables at the top\n",
    "level, but it cannot change what value the top-level variables point to.\n",
    "\n",
    "Read the code the below, but do not run it.\n",
    "\n",
    "Predict what you will see.  Will it be an error?  If not, what value will you\n",
    "see?\n",
    "\n",
    "Run it to see if you're right.  See if you can explain why you are right.  Call\n",
    "your instructor over to check your explanation."
   ]
  },
  {
   "cell_type": "code",
   "execution_count": null,
   "id": "a4c4a61e",
   "metadata": {},
   "outputs": [],
   "source": [
    "a = 12\n",
    "\n",
    "def function_two(b):\n",
    "    a = b\n",
    "    return a * b\n",
    "\n",
    "function_two(4)"
   ]
  },
  {
   "cell_type": "markdown",
   "id": "3597b6e7",
   "metadata": {},
   "source": [
    "Edit this code cell with your explanation.\n",
    "\n",
    "## Done\n",
    "\n",
    "You're finished with the assignment!  Be sure to...\n",
    "\n",
    "- **run all the tests** (the next cell has a shortcut for that),\n",
    "- **Save and Checkpoint** from the \"File\" menu."
   ]
  },
  {
   "cell_type": "code",
   "execution_count": null,
   "id": "d3a00f60",
   "metadata": {},
   "outputs": [],
   "source": [
    "# For your convenience, you can run this cell to run all the tests at once!\n",
    "import os\n",
    "_ = [ok.grade(q[:-3]) for q in os.listdir(\"tests\") if q.startswith('q')]"
   ]
  }
 ],
 "metadata": {
  "jupytext": {
   "notebook_metadata_filter": "all,-language_info",
   "text_representation": {
    "extension": ".Rmd",
    "format_name": "rmarkdown",
    "format_version": "1.0",
    "jupytext_version": "0.8.6"
   }
  },
  "kernelspec": {
   "display_name": "Python 3",
   "language": "python",
   "name": "python3"
  },
  "textbook": {
   "run": false
  }
 },
 "nbformat": 4,
 "nbformat_minor": 5
}
